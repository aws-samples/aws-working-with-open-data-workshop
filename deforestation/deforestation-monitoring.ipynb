{
 "cells": [
  {
   "cell_type": "markdown",
   "id": "5ef72609-b294-4cce-a917-6629581c2ac6",
   "metadata": {},
   "source": [
    "# Monitoring deforestation with Amazon SageMaker\n"
   ]
  },
  {
   "cell_type": "markdown",
   "id": "ac4a1118-5e87-468d-857d-a0bc5e9c4cff",
   "metadata": {},
   "source": [
    "The documented solution in this notebook utilizes SageMaker's geospatial capabilities to allow customers to monitor and establish a baseline for vegetation type and density.\n",
    "\n",
    "This is valuable for tracking changes in forest density and ensuring responsible sourcing of raw materials like palm oil, rubber, soy, and timber. Due to the geographical distance and supply chain complexity, observing these changes is challenging. Manually classifying vegetation requires substantial effort in retrieving relevant satellite imagery and processing raw data. However, SageMaker's geospatial capabilities eliminate these challenges by providing datasets, algorithms, and tools for faster and easier land use classification and vegetation mapping. Leveraging high-resolution satellite imagery from sources like [Landsat](https://registry.opendata.aws/usgs-landsat/) and [Sentinel 2](https://registry.opendata.aws/sentinel-2-l2a-cogs/), the tool offers a simple querying interface and a range of built-in image processing capabilities, facilitating the analysis process."
   ]
  },
  {
   "cell_type": "markdown",
   "id": "04a08fa7-a784-40e8-a36d-cfa84830b66b",
   "metadata": {},
   "source": [
    "**Contents**\n",
    "\n",
    "* [Setup SageMaker geospatial capabilities](#1)\n",
    "* [Query and access Data](#2)\n",
    "* [Start an Earth Observation Job (EOJ) to calculate the NVDI](#3)\n",
    "* [Visualize EOJ inputs and outputs in FourSquare Studio](#4)\n",
    "* [Extract the NDVI results](#5)\n",
    "* [Measure the dense forest area](#6)\n",
    "\n"
   ]
  },
  {
   "cell_type": "markdown",
   "id": "62e59d15-3a3e-4eae-8100-50b646425a12",
   "metadata": {},
   "source": [
    "<a id='1'></a>\n",
    "\n",
    "## Setup SageMaker geospatial capabilities"
   ]
  },
  {
   "cell_type": "code",
   "execution_count": null,
   "id": "0dc40c18-a7c6-4afa-a9f5-e76bcce62bc0",
   "metadata": {
    "tags": []
   },
   "outputs": [],
   "source": [
    "import datetime as dt\n",
    "import os\n",
    "import json\n",
    "import time\n",
    "from glob import glob\n",
    "from urllib import request\n",
    "from urllib.parse import urlparse\n",
    "import boto3\n",
    "import cv2\n",
    "import imageio.v2 as imageio\n",
    "import matplotlib.dates as mdates\n",
    "import matplotlib.pyplot as plt\n",
    "import matplotlib.colors\n",
    "import numpy as np\n",
    "import sagemaker\n",
    "import sagemaker_geospatial_map\n",
    "import tifffile\n",
    "from botocore import UNSIGNED\n",
    "from botocore.config import Config\n",
    "from IPython.display import HTML\n",
    "import geopandas as gpd\n",
    "import folium"
   ]
  },
  {
   "cell_type": "code",
   "execution_count": null,
   "id": "fb593738-f41e-4bbe-bab3-12e4e5beab26",
   "metadata": {
    "tags": []
   },
   "outputs": [],
   "source": [
    "session = boto3.Session()\n",
    "execution_role = sagemaker.get_execution_role()\n",
    "sg_client = session.client(service_name=\"sagemaker-geospatial\")"
   ]
  },
  {
   "cell_type": "code",
   "execution_count": null,
   "id": "98bb4a6a-ec75-41af-9d11-ae5ba8c03111",
   "metadata": {
    "tags": []
   },
   "outputs": [],
   "source": [
    "!aws s3 ls | grep opendata-workshop"
   ]
  },
  {
   "cell_type": "code",
   "execution_count": null,
   "id": "b289ec06-3c09-4be9-9126-652b3c551d01",
   "metadata": {
    "tags": []
   },
   "outputs": [],
   "source": [
    "analytics_bucket = \"opendata-workshop-analyticsbucket-1bz10wap1adkp\"\n",
    "image_bucket = \"opendata-workshop-imagebucket-26u8xgqrce1w\""
   ]
  },
  {
   "cell_type": "markdown",
   "id": "767b519b-4b00-4702-9e99-34d91ba0c720",
   "metadata": {},
   "source": [
    "<a id='2'></a>\n",
    "\n",
    "## Query and access data"
   ]
  },
  {
   "cell_type": "markdown",
   "id": "665d5b78-06fb-4c36-a5eb-5ec080f8e794",
   "metadata": {},
   "source": [
    "Query the geospatial data with area of interest (AOI), time range and cloud cover filter.  In this example we will monitor a random location in Mato Grosso, Brazil.  We enter the coordinates for this location, the time that we are interested, and the maximium cloud coverage using [GeoJSON](https://geojson.io/).  "
   ]
  },
  {
   "cell_type": "code",
   "execution_count": null,
   "id": "e0e02a7c-23f6-422c-b551-3e3f571e82b5",
   "metadata": {
    "tags": []
   },
   "outputs": [],
   "source": [
    "geojson_file_name = \"brazil_plantation_mato_grosso.geojson\""
   ]
  },
  {
   "cell_type": "code",
   "execution_count": null,
   "id": "93cb747e-3b8e-4cd2-9d65-1529f24392bc",
   "metadata": {
    "tags": []
   },
   "outputs": [],
   "source": [
    "#load geojson as shape file\n",
    "shape = gpd.read_file(geojson_file_name) \n",
    "\n",
    "#extract coordinates\n",
    "coords = json.loads(shape.to_json())['features'][0][\"geometry\"][\"coordinates\"]"
   ]
  },
  {
   "cell_type": "code",
   "execution_count": null,
   "id": "63f1c759-83b3-4f61-8060-92b3b6e6e6c2",
   "metadata": {
    "tags": []
   },
   "outputs": [],
   "source": [
    "timestart = \"2020-01-01T00:00:00Z\"\n",
    "timeend = \"2022-09-01T00:00:00Z\"\n",
    "maxclouds = 1"
   ]
  },
  {
   "cell_type": "code",
   "execution_count": null,
   "id": "aacad124-4f53-4225-bffb-94a859a96c3c",
   "metadata": {
    "tags": []
   },
   "outputs": [],
   "source": [
    "### Dynamic Folium Plotting Option (does not render in github preview or pdf)\n",
    "polygon_centroid = shape[\"geometry\"].centroid.to_crs(4326)\n",
    "m = folium.Map([polygon_centroid.y,polygon_centroid.x], zoom_start=11)\n",
    "folium.GeoJson(shape).add_to(m)\n",
    "m"
   ]
  },
  {
   "cell_type": "code",
   "execution_count": null,
   "id": "8a9749b1-4622-46da-9172-1491c9cb816f",
   "metadata": {
    "scrolled": true,
    "tags": []
   },
   "outputs": [],
   "source": [
    "# list SageMaker geospatial capabilities datasets\n",
    "dc = sg_client.list_raster_data_collections()\n",
    "for k in dc[\"RasterDataCollectionSummaries\"]:\n",
    "    print()\n",
    "    print(f\"Dataset:     {k['Name']}\\nDescription: {k['Description']}\\nArn:         {k['Arn']}\")"
   ]
  },
  {
   "cell_type": "code",
   "execution_count": null,
   "id": "bde07cea-8d83-4027-b20e-921e7f36f298",
   "metadata": {
    "tags": []
   },
   "outputs": [],
   "source": [
    "search_rdc_args = {\n",
    "    \"Arn\": \"arn:aws:sagemaker-geospatial:us-west-2:378778860802:raster-data-collection/public/nmqj48dcu3g7ayw8\",  # sentinel-2 L2A COG\n",
    "    \"RasterDataCollectionQuery\": {\n",
    "        \"AreaOfInterest\": {\n",
    "            \"AreaOfInterestGeometry\": {\"PolygonGeometry\": {\"Coordinates\": coords}}\n",
    "        },\n",
    "        \"TimeRangeFilter\": {\n",
    "            \"StartTime\": timestart,\n",
    "            \"EndTime\": timeend,\n",
    "        },\n",
    "        \"PropertyFilters\": {\n",
    "            \"Properties\": [\n",
    "                {\"Property\": {\"EoCloudCover\": {\"LowerBound\": 0, \"UpperBound\": maxclouds}}}\n",
    "            ],\n",
    "            \"LogicalOperator\": \"AND\",\n",
    "        },\n",
    "        \"BandFilter\": [\"visual\"],\n",
    "    },\n",
    "}\n",
    "\n",
    "tci_urls = []\n",
    "data_manifests = []\n",
    "while search_rdc_args.get(\"NextToken\", True):\n",
    "    search_result = sg_client.search_raster_data_collection(**search_rdc_args)\n",
    "    if search_result.get(\"NextToken\"):\n",
    "        data_manifests.append(search_result)\n",
    "    for item in search_result[\"Items\"]:\n",
    "        tci_url = item[\"Assets\"][\"visual\"][\"Href\"]\n",
    "        print(tci_url)\n",
    "        tci_urls.append(tci_url)\n",
    "\n",
    "    search_rdc_args[\"NextToken\"] = search_result.get(\"NextToken\")"
   ]
  },
  {
   "cell_type": "markdown",
   "id": "4cae74ac-9ec4-429f-a154-c37d0916293d",
   "metadata": {
    "tags": []
   },
   "source": [
    "Great!  We have images that match our area of interest, time range, and cloud filter.  Note that the total number of images found will depend on the data query.  "
   ]
  },
  {
   "cell_type": "markdown",
   "id": "5c8063b1-7a84-4447-b3b2-35106b948369",
   "metadata": {},
   "source": [
    "Now, let's download one of the results and plot it in the notebook. This is used as a sanity check to ensure the image covers the area of interest, time range, and cloud coverage. "
   ]
  },
  {
   "cell_type": "code",
   "execution_count": null,
   "id": "733e7ae7-4b22-47d8-967a-97b2c1a5b12c",
   "metadata": {
    "tags": []
   },
   "outputs": [],
   "source": [
    "# Check one example.\n",
    "image_dir = \"./images/data\"\n",
    "os.makedirs(image_dir, exist_ok=True)\n",
    "\n",
    "tci_url = tci_urls[1]\n",
    "img_id = tci_url.split(\"/\")[-2]\n",
    "tci_path = image_dir + \"/\" + img_id + \"_TCI.tif\"\n",
    "response = request.urlretrieve(tci_url, tci_path)\n",
    "print(\"Downloaded image: \" + img_id)\n",
    "\n",
    "tci = tifffile.imread(tci_path)\n",
    "fig, ax = plt.subplots(figsize=(5, 5))\n",
    "plt.title(img_id)\n",
    "plt.imshow(tci)\n",
    "plt.show()"
   ]
  },
  {
   "cell_type": "markdown",
   "id": "23788ee9-bf5f-48b8-80f9-e0432048f679",
   "metadata": {},
   "source": [
    "<a id='3'></a>\n",
    "## Start an Earth Observation Job (EOJ) to calculate the Normalized Difference Vegetation Index (NDVI)"
   ]
  },
  {
   "cell_type": "markdown",
   "id": "4c8e052c-f22a-4ad2-b09f-b9ccdc11d9b9",
   "metadata": {},
   "source": [
    "We have previously set filters for the satellite imagery to be retrieved. These included geospatial filters (AreaOfInterest), time-based filters (TimeRangeFilter) and other property filters (PropertyFilter) such as cloud cover. In this section we now define the geospatial model that is to be applied to the retrieved images. SageMaker's geospatial capabilities comprise the following pre-implemented models:\n",
    "\n",
    "\n",
    "- BandMathConfig : predefined (NDVI, EVI2, MSAVI, NDWI, NDMI, NDSI, WDRVI) or custom bandmath operations\n",
    "- ResamplingConfig: scales the satellite images to a different resolution\n",
    "- TemporalStatisticsConfig: calculates statistics through time for given geotiff\n",
    "- CloudRemovalConfig: pixel-wise statistic operations performed on user-defined regions of a raster satellite imagery\n",
    "- ZonalStatisticsConfig: combines input geotiffs spatially\n",
    "- GeoMosaicConfig: combines input geotiffs spatially\n",
    "- StackConfig: combine bands in separate geotiffs into one geotiff\n",
    "- CloudMaskingConfig: masks clouds from output\n",
    "- LandCoverSegmentationConfig: multi-class classification algorithm that performs land cover segmentation\n",
    "\n",
    "For our use case we are interested in changes in vegetation, e.g., due to deforestation. We therefore select the BanddMath model, which performs pixel-by-pixel mathematical computation operations on the different bands captured by Sentinel 2. A common use case is the computation of vegetation indices."
   ]
  },
  {
   "cell_type": "markdown",
   "id": "9594d2f8-11d7-45e8-9999-7e8d8e8494e5",
   "metadata": {},
   "source": [
    "First, let's check to see what spectral bands are available in the dataset"
   ]
  },
  {
   "cell_type": "markdown",
   "id": "2e3d2034-b827-4b7d-bc7d-1633d293946c",
   "metadata": {
    "tags": []
   },
   "source": [
    "sg_client.get_raster_data_collection(\n",
    "    Arn=\"arn:aws:sagemaker-geospatial:us-west-2:378778860802:raster-data-collection/public/nmqj48dcu3g7ayw8\"\n",
    ")[\"ImageSourceBands\"]"
   ]
  },
  {
   "cell_type": "markdown",
   "id": "0273455a-de1b-4b9d-bfaf-fe7d171db0cb",
   "metadata": {},
   "source": [
    "We can get more information on the bands by visiting the [sentinel website](https://sentinels.copernicus.eu/web/sentinel/user-guides/sentinel-2-msi/resolutions/spatial).  Here we will be using band 8 - nir and band 4 - red.  Both of these bands have a 10 m spatial resolution.  The bands will be used to calculate the [Normalized Difference Vegetation Index (NDVI)](https://en.wikipedia.org/wiki/Normalized_difference_vegetation_index#:~:text=The%20normalized%20difference%20vegetation%20index,observed%20contains%20live%20green%20vegetation).\n",
    "\n",
    "```python\n",
    "NDVI_map={[-1.0,0.0]: \"no vegetation (water, rock, artificial structures)\",\n",
    "          [0.0,0.5]: \"light vegetation (shrubs, grass, fields)\",\n",
    "          [0.5,0.7]: \"dense vegetation (forests, plantations)\",\n",
    "          [0.7,1.0]: \"very dense vegetation (rainforest)\"}\n",
    "```"
   ]
  },
  {
   "cell_type": "markdown",
   "id": "751e3e98-7ebb-4146-af61-3fb17cf77b7d",
   "metadata": {
    "tags": []
   },
   "source": [
    "This Earth Observation Job will take ~20 minutes to complete."
   ]
  },
  {
   "cell_type": "code",
   "execution_count": null,
   "id": "4a7f45ab-06fc-41cc-b7c2-9c169ea5b787",
   "metadata": {
    "tags": []
   },
   "outputs": [],
   "source": [
    "eoj_input_config = {\n",
    "    \"RasterDataCollectionQuery\": {\n",
    "        \"RasterDataCollectionArn\": \"arn:aws:sagemaker-geospatial:us-west-2:378778860802:raster-data-collection/public/nmqj48dcu3g7ayw8\",\n",
    "        \"AreaOfInterest\": {\n",
    "            \"AreaOfInterestGeometry\": {\"PolygonGeometry\": {\"Coordinates\": coords}}\n",
    "        },\n",
    "        \"TimeRangeFilter\": {\n",
    "            \"StartTime\": timestart,\n",
    "            \"EndTime\": timeend,\n",
    "        },\n",
    "        \"PropertyFilters\": {\n",
    "            \"Properties\": [\n",
    "                {\"Property\": {\"EoCloudCover\": {\"LowerBound\": 0, \"UpperBound\": maxclouds}}}\n",
    "            ],\n",
    "            \"LogicalOperator\": \"AND\",\n",
    "        },\n",
    "    },\n",
    "}\n",
    "\n",
    "\n",
    "eoj_config = {\n",
    "    \"BandMathConfig\": {\n",
    "        'PredefinedIndices': [\n",
    "            'NDVI',\n",
    "        ]\n",
    "    }\n",
    "}"
   ]
  },
  {
   "cell_type": "code",
   "execution_count": null,
   "id": "0b9c4727-c06f-4109-8807-0538aaa16e45",
   "metadata": {
    "tags": []
   },
   "outputs": [],
   "source": [
    "response = sg_client.start_earth_observation_job(\n",
    "    Name=\"brazil-deforestation\",\n",
    "    InputConfig=eoj_input_config,\n",
    "    JobConfig=eoj_config,\n",
    "    ExecutionRoleArn=execution_role,\n",
    ")\n",
    "\n",
    "print(\"EOJ started with... \\nName: {} \\nID: {}\".format(response[\"Name\"], response[\"Arn\"]))"
   ]
  },
  {
   "cell_type": "markdown",
   "id": "47e00573-a20b-4264-8fb7-f80a1c92f4e3",
   "metadata": {},
   "source": [
    "### Monitor the EOJ status."
   ]
  },
  {
   "cell_type": "code",
   "execution_count": null,
   "id": "309b74ca-883e-4b64-b597-0f0e154a23dc",
   "metadata": {
    "tags": []
   },
   "outputs": [],
   "source": [
    "eoj_arn = response[\"Arn\"]\n",
    "job_details = sg_client.get_earth_observation_job(Arn=eoj_arn)\n",
    "{k: v for k, v in job_details.items() if k in [\"Arn\", \"Status\", \"DurationInSeconds\"]}"
   ]
  },
  {
   "cell_type": "markdown",
   "id": "c205a536-fd97-4500-a108-08bc988cd086",
   "metadata": {},
   "source": [
    "We can also impliment a loop to check on the EOJ status"
   ]
  },
  {
   "cell_type": "code",
   "execution_count": null,
   "id": "b728c906-74cf-4ff5-a892-e86addc75db2",
   "metadata": {
    "tags": []
   },
   "outputs": [],
   "source": [
    "def EOJwaiter(arn, max_check=1000, max_sleep=60):\n",
    "    status = None\n",
    "    print(f\"##### Checking Status on EOJ: {arn} #####\")\n",
    "    tic = time.time()\n",
    "\n",
    "    for i in range(max_check):\n",
    "        _ = sg_client.get_earth_observation_job(Arn=arn)[\"Status\"]\n",
    "\n",
    "        if status != _:\n",
    "            if status is not None:\n",
    "                print(f\"Step Duration: {time.time()-tic:.2f} seconds\")\n",
    "                tic = time.time()\n",
    "\n",
    "            status = _\n",
    "            print(status)\n",
    "\n",
    "            if status == \"COMPLETED\":\n",
    "                break\n",
    "        else:\n",
    "            print(\".\", end=\"\", flush=True)\n",
    "        time.sleep(max_sleep)"
   ]
  },
  {
   "cell_type": "code",
   "execution_count": null,
   "id": "73e20adf-dce6-4474-8389-a38c5bff9407",
   "metadata": {
    "tags": []
   },
   "outputs": [],
   "source": [
    "# EOJwaiter(eoj_arn)"
   ]
  },
  {
   "cell_type": "markdown",
   "id": "ea37b2cb-bdda-40b9-ac16-4238bfb8be2e",
   "metadata": {},
   "source": [
    "You don't need to wait the results. The EOJ's results are stored at x."
   ]
  },
  {
   "cell_type": "markdown",
   "id": "6ec7662d-7528-4cb8-99e4-dedc4025edca",
   "metadata": {},
   "source": [
    "<a id='4'></a>\n",
    "\n",
    "## Visualize EOJ inputs and outputs using the geospatial client"
   ]
  },
  {
   "cell_type": "markdown",
   "id": "b6b4d8b6-84d5-4efd-a8c8-0088f82e4641",
   "metadata": {
    "tags": []
   },
   "source": [
    "Once the EOJ has completed we can visualize it using the [built-in FourSquare Studio functionality](https://docs.aws.amazon.com/sagemaker/latest/dg/geospatial-visualize.html). To do so, we first render the map, and then modify it by adding layers for AOI, input and output."
   ]
  },
  {
   "cell_type": "code",
   "execution_count": null,
   "id": "2dbbfd3b-2726-42ae-9c00-487b1244d590",
   "metadata": {
    "tags": []
   },
   "outputs": [],
   "source": [
    "# Creates an instance of the map to add EOJ input/ouput layer\n",
    "map = sagemaker_geospatial_map.create_map({\"is_raster\": True})\n",
    "map.set_sagemaker_geospatial_client(sg_client)"
   ]
  },
  {
   "cell_type": "code",
   "execution_count": null,
   "id": "770cea38-8376-4d25-89ad-1784ee83726c",
   "metadata": {
    "tags": []
   },
   "outputs": [],
   "source": [
    "# Render the map\n",
    "map.render()"
   ]
  },
  {
   "cell_type": "code",
   "execution_count": null,
   "id": "7eca43da-4bdc-4133-bea2-45bbf4fcc269",
   "metadata": {
    "tags": []
   },
   "outputs": [],
   "source": [
    "# Visualize AOI\n",
    "config = {\"label\": \"EOJ AOI\"}\n",
    "aoi_layer = map.visualize_eoj_aoi(Arn=eoj_arn, config=config)\n",
    "time.sleep(20)"
   ]
  },
  {
   "cell_type": "code",
   "execution_count": null,
   "id": "f82107b8-eefe-424e-8389-d11d31acc772",
   "metadata": {
    "tags": []
   },
   "outputs": [],
   "source": [
    "# Visualize input.\n",
    "time_range_filter = {\n",
    "    \"start_date\": timestart,\n",
    "    \"end_date\": timeend,\n",
    "}\n",
    "config = {\"label\": \"Input\"}\n",
    "\n",
    "input_layer = map.visualize_eoj_input(\n",
    "    Arn=eoj_arn, config=config, time_range_filter=time_range_filter\n",
    ")\n",
    "time.sleep(20)"
   ]
  },
  {
   "cell_type": "code",
   "execution_count": null,
   "id": "ebf1b5d7-6e15-4c7f-9dcd-e98e02d42b34",
   "metadata": {
    "tags": []
   },
   "outputs": [],
   "source": [
    "# Visualize output, EOJ needs to be in completed status.\n",
    "time_range_filter = {\n",
    "    \"start_date\": timestart,\n",
    "    \"end_date\": timeend,\n",
    "}\n",
    "config = {\"preset\": \"singleBand\", \"band_name\": \"ndvi\"}\n",
    "output_layer = map.visualize_eoj_output(\n",
    "    Arn=eoj_arn, config=config, time_range_filter=time_range_filter\n",
    ")\n",
    "time.sleep(20)"
   ]
  },
  {
   "cell_type": "markdown",
   "id": "321c260b-49fd-4973-9dd6-0f00f629fab6",
   "metadata": {},
   "source": [
    "<a id='5'></a>\n",
    "## Extract the NDVI band math results"
   ]
  },
  {
   "cell_type": "markdown",
   "id": "5c55936b-6077-433c-972b-fa5c1592a898",
   "metadata": {},
   "source": [
    "To get the output from the EOJ job we need to export it to s3.  Here we provide an export location and start the export job.  Note that the export job will take ~5 minutes to complete."
   ]
  },
  {
   "cell_type": "code",
   "execution_count": null,
   "id": "d68d8237-c580-4164-b69c-6098eb76fd00",
   "metadata": {
    "tags": []
   },
   "outputs": [],
   "source": [
    "sagemaker_session = sagemaker.Session()\n",
    "s3_bucket_name = sagemaker_session.default_bucket()\n",
    "s3_bucket = session.resource(\"s3\").Bucket(s3_bucket_name)\n",
    "prefix = \"eoj_deforestation_ndvi\"\n",
    "export_bucket_and_key = f\"s3://{s3_bucket_name}/{prefix}/\"\n",
    "\n",
    "eoj_output_config = {\"S3Data\": {\"S3Uri\": export_bucket_and_key}}\n",
    "export_response = sg_client.export_earth_observation_job(\n",
    "    Arn=eoj_arn,\n",
    "    ExecutionRoleArn=execution_role,\n",
    "    OutputConfig=eoj_output_config,\n",
    "    ExportSourceImages=False,\n",
    ")"
   ]
  },
  {
   "cell_type": "code",
   "execution_count": null,
   "id": "34cef2da-7704-4ce8-b461-08a198ab62b3",
   "metadata": {
    "tags": []
   },
   "outputs": [],
   "source": [
    "print(f\"Data will be exported to:  {export_bucket_and_key}\")"
   ]
  },
  {
   "cell_type": "code",
   "execution_count": null,
   "id": "36eea163-528c-4471-9a4e-2cc71b55af70",
   "metadata": {
    "tags": []
   },
   "outputs": [],
   "source": [
    "# Monitor the export job status\n",
    "export_job_details = sg_client.get_earth_observation_job(Arn=export_response[\"Arn\"])"
   ]
  },
  {
   "cell_type": "markdown",
   "id": "851e8ce5-8360-466a-aabb-de377f2820c9",
   "metadata": {},
   "source": [
    "Again we can impliment a loop to monitor the status of the export"
   ]
  },
  {
   "cell_type": "code",
   "execution_count": null,
   "id": "ac7d2342-c396-46f1-8574-2cbd022d18fc",
   "metadata": {
    "tags": []
   },
   "outputs": [],
   "source": [
    "def EOJexportwaiter(arn, max_check=1000, max_sleep=60):\n",
    "    status = None\n",
    "    print(f\"##### Checking Export Status on EOJ: {arn} #####\")\n",
    "    tic = time.time()\n",
    "\n",
    "    for i in range(max_check):\n",
    "        _ = sg_client.get_earth_observation_job(Arn=arn)[\"ExportStatus\"]\n",
    "\n",
    "        if status != _:\n",
    "            if status is not None:\n",
    "                print(f\"Step Duration: {time.time()-tic:.2f} seconds\")\n",
    "                tic = time.time()\n",
    "\n",
    "            status = _\n",
    "            print(status)\n",
    "\n",
    "            if status == \"SUCCEEDED\":\n",
    "                break\n",
    "        else:\n",
    "            print(\".\", end=\"\", flush=True)\n",
    "        time.sleep(max_sleep)"
   ]
  },
  {
   "cell_type": "code",
   "execution_count": null,
   "id": "ae5e761a-4372-48f0-a06e-f6a456919549",
   "metadata": {
    "tags": []
   },
   "outputs": [],
   "source": [
    "EOJexportwaiter(eoj_arn)"
   ]
  },
  {
   "cell_type": "markdown",
   "id": "a667db5f-ac1c-4218-9e28-48208d35d54a",
   "metadata": {},
   "source": [
    "<a id='6'></a>\n",
    "## Measure Vegetation Index\n",
    "\n",
    "Now with our data exported to s3, let's download the tif masks to the notebook elastic file system (EFS).  Once we download the image we can then calculate the vegetation.  We need to download the images to the file system to be able to read them into memory and to calculate the total area of vegetation.  "
   ]
  },
  {
   "cell_type": "code",
   "execution_count": null,
   "id": "6ef9344c-9f0b-42a8-a1e9-7c77c57487c0",
   "metadata": {
    "scrolled": true,
    "tags": []
   },
   "outputs": [],
   "source": [
    "# Download band math masks\n",
    "mask_dir = \"./masks/deforestation\"\n",
    "os.makedirs(mask_dir, exist_ok=True)\n",
    "image_paths = []\n",
    "for s3_object in s3_bucket.objects.filter(Prefix=prefix).all():\n",
    "    path, filename = os.path.split(s3_object.key)\n",
    "    if \"output\" in path:\n",
    "        mask_name = mask_dir + \"/\" + filename\n",
    "        s3_bucket.download_file(s3_object.key, mask_name)\n",
    "        print(\"Downloaded mask: \" + mask_name)\n",
    "\n",
    "# Download source images for visualization\n",
    "for tci_url in tci_urls:\n",
    "    url_parts = urlparse(tci_url)\n",
    "    img_id = url_parts.path.split(\"/\")[-2]\n",
    "    tci_download_path = image_dir + \"/\" + img_id + \"_TCI.tif\"\n",
    "    cogs_bucket = session.resource(\n",
    "        \"s3\", config=Config(signature_version=UNSIGNED, region_name=\"us-west-2\")\n",
    "    ).Bucket(url_parts.hostname.split(\".\")[0])\n",
    "    cogs_bucket.download_file(url_parts.path[1:], tci_download_path)\n",
    "    print(\"Downloaded image: \" + img_id)\n",
    "\n",
    "print(\"Downloads complete.\")"
   ]
  },
  {
   "cell_type": "markdown",
   "id": "cd1e76bc-6204-44b7-9ee4-4d618cfb2943",
   "metadata": {},
   "source": [
    "### Extract area of vegetation."
   ]
  },
  {
   "cell_type": "code",
   "execution_count": null,
   "id": "23111adf-e639-45eb-baa1-6f9c20ae47c7",
   "metadata": {
    "tags": []
   },
   "outputs": [],
   "source": [
    "image_files = glob(\"./images/data/*.tif\")\n",
    "mask_files = glob(\"./masks/deforestation/*ndvi.tif\")\n",
    "image_files.sort(key=lambda x: x.split(\"LPP_\")[1])\n",
    "mask_files.sort(key=lambda x: x.split(\"LPP_\")[1])"
   ]
  },
  {
   "cell_type": "code",
   "execution_count": null,
   "id": "49022ab8-450f-49fb-891e-7dc4cd10c1cd",
   "metadata": {
    "tags": []
   },
   "outputs": [],
   "source": [
    "# Check one example.\n",
    "image_dir = \"./images/data\"\n",
    "os.makedirs(image_dir, exist_ok=True)\n",
    "\n",
    "tci_url = tci_urls[1]\n",
    "img_id = tci_url.split(\"/\")[-2]\n",
    "tci_path = image_dir + \"/\" + img_id + \"_TCI.tif\"\n",
    "response = request.urlretrieve(tci_url, tci_path)\n",
    "print(\"Downloaded image: \" + img_id)\n",
    "\n",
    "tci = tifffile.imread(tci_path)\n",
    "fig, ax = plt.subplots(figsize=(5, 5))\n",
    "plt.title(img_id)\n",
    "plt.imshow(tci)\n",
    "plt.show()"
   ]
  },
  {
   "cell_type": "code",
   "execution_count": null,
   "id": "9bd68e7f-4dee-4f94-b699-f8ce91c1c76e",
   "metadata": {
    "tags": []
   },
   "outputs": [],
   "source": [
    "overlay_dir = \"./masks/veg-index-overlay\"\n",
    "os.makedirs(overlay_dir, exist_ok=True)\n",
    "\n",
    "veg_areas = []\n",
    "mask_dates = []\n",
    "thresh = 0.4  # https://www.usgs.gov/special-topics/remote-sensing-phenology/science/ndvi-foundation-remote-sensing-phenology\n",
    "\n",
    "for image_file, mask_file in zip(image_files, mask_files):\n",
    "    image_id = image_file.split(\"/\")[-1].split(\"_TCI\")[0]\n",
    "    mask_id = mask_file.split(\"/\")[-1].split(\"_ndvi.tif\")[0]\n",
    "    mask_date = mask_id.split(\"_\")[2]\n",
    "    if image_id == mask_id:\n",
    "        mask_dates.append(mask_date)\n",
    "        image = tifffile.imread(image_file)  # (10980 x 10980 x 3)\n",
    "        image_ds = cv2.resize(\n",
    "            image, (2000, 2000), interpolation=cv2.INTER_LINEAR\n",
    "        )  # (2000 x 2000 x 3)\n",
    "        mask = tifffile.imread(mask_file)  # 10980 x 10980 (10 m per pixel)\n",
    "        veg_mask = (mask > thresh).astype(np.uint8)\n",
    "        veg_mask = veg_mask[\n",
    "            2000:, :\n",
    "        ]  # sample image to remove missing path in the north west corner\n",
    "        veg_area = (\n",
    "            veg_mask.sum() * 10 * 10 / (1000 * 1000)\n",
    "        )  # calculate the surface area, 10m per pixel\n",
    "        veg_areas.append(veg_area)\n",
    "\n",
    "        cmap = matplotlib.colors.ListedColormap([\"red\", \"green\"])\n",
    "        f, axarr = plt.subplots(1, 2, figsize=(12, 5))\n",
    "        axarr[0].imshow(image[2000:, :])\n",
    "        axarr[0].axis(\"off\")\n",
    "        axarr[1].imshow(veg_mask, cmap=cmap)\n",
    "        axarr[1].axis(\"off\")\n",
    "\n",
    "        f.suptitle(\n",
    "            f\"{image_id}\\nTotal Area = {veg_area:.1f} sq km\\nDate = {mask_date[0:4]}-{mask_date[4:6]}-{mask_date[6:8]} \"\n",
    "        )\n",
    "        overlay_file = overlay_dir + \"/\" + mask_date + \".png\"\n",
    "        f.savefig(overlay_file, dpi=80, bbox_inches=\"tight\")\n",
    "        plt.close()"
   ]
  },
  {
   "cell_type": "markdown",
   "id": "96a7be77-2de8-4899-aad8-4c6ce3cd0e5d",
   "metadata": {},
   "source": [
    "We have produced output plots using the satellite image overlayed with the vegetation index at a transparency of 40%.  Let's take a look at a single image"
   ]
  },
  {
   "cell_type": "code",
   "execution_count": null,
   "id": "5cbf1a7b-778b-4c4e-9c9f-2270bfa7f811",
   "metadata": {
    "tags": []
   },
   "outputs": [],
   "source": [
    "HTML('<img src=\"./masks/veg-index-overlay/20220731.png\">')"
   ]
  },
  {
   "cell_type": "markdown",
   "id": "fa05069c-22dd-40bd-94cc-c729f9f8e4b2",
   "metadata": {},
   "source": [
    "Now let's split the data by year so we can compare 2020, 2021, and 2022. "
   ]
  },
  {
   "cell_type": "code",
   "execution_count": null,
   "id": "f781b3ce-e389-40a2-8dff-1b05dfbb3cdb",
   "metadata": {
    "tags": []
   },
   "outputs": [],
   "source": [
    "a = []\n",
    "t = []\n",
    "years = [\"2020\", \"2021\", \"2022\"]\n",
    "for y in years:\n",
    "    a_ = []\n",
    "    t_ = []\n",
    "    for i, m in enumerate(mask_dates):\n",
    "        if m[0:4] == y:\n",
    "            t_.append(dt.datetime.strptime(\"1900\" + m[4:], \"%Y%m%d\").date())\n",
    "            a_.append(veg_areas[i])\n",
    "\n",
    "    a.append(a_)\n",
    "    t.append(t_)"
   ]
  },
  {
   "cell_type": "code",
   "execution_count": null,
   "id": "18fdc809-02bf-49fc-90b2-5d4bb1269983",
   "metadata": {
    "tags": []
   },
   "outputs": [],
   "source": [
    "plt.figure(figsize=(15, 5))\n",
    "plt.title(\"Novo Progresso, Brazil - Vegetation Index Total Area Per Year\", fontsize=20)\n",
    "plt.xticks(rotation=45)\n",
    "plt.ylabel(\"Vegetation area [sq km]\", fontsize=14)\n",
    "plt.plot(t[0], a[0], marker=\"o\", label=\"2020\")\n",
    "plt.plot(t[1], a[1], marker=\"o\", label=\"2021\")\n",
    "plt.plot(t[2], a[2], marker=\"o\", label=\"2022\")\n",
    "# Make ticks on occurrences of each month:\n",
    "plt.gca().xaxis.set_major_locator(mdates.MonthLocator())\n",
    "# Get only the month to show in the x-axis:\n",
    "plt.gca().xaxis.set_major_formatter(mdates.DateFormatter(\"%b\"))\n",
    "plt.grid(\"on\")\n",
    "plt.legend(loc=\"best\", fontsize=14)\n",
    "plt.show()"
   ]
  },
  {
   "cell_type": "markdown",
   "id": "3edfbfa5-00d0-41e3-a440-20586428c5e0",
   "metadata": {},
   "source": [
    "The plot above was produced using geospatial images alone.  We can monitor how the total area of the vegetation index is changing over time and compare this to previous years.  In this plot we show how year 2020, 2021, and 2022 are slightly different.  There is a clear seasonal trend where the spring vegetation decreases as we approach fall / winter.  As deforestation continues we see the yearly curves move down (less area) each year. Note that the same number of images for each year are different.  This is due to the cloud filter where some of the images acquired during the time range of interest did not meet the cloud coverage constraints."
   ]
  },
  {
   "cell_type": "markdown",
   "id": "e0ef0d0b-e2c7-453f-9f84-31ff380afef3",
   "metadata": {},
   "source": [
    "If we take a closer look at the images that were collected in 2020, 2021, and 2022 we can see the change in the vegetation.  Here the 3 image gif shows the visual image with the vegetation index.  We can see that the vegetation area decreases as we progress from 2020 to 2022"
   ]
  },
  {
   "cell_type": "code",
   "execution_count": null,
   "id": "650d64f2-7b73-46ea-bcce-dd5af8c261cd",
   "metadata": {
    "tags": []
   },
   "outputs": [],
   "source": [
    "frames = []\n",
    "filenames = glob(\"./masks/veg-index-overlay/*0731.png\")\n",
    "filenames.sort()\n",
    "\n",
    "for filename in filenames:\n",
    "    frames.append(imageio.imread(filename))\n",
    "imageio.mimsave(\"deforestation.gif\", frames, duration=1)"
   ]
  },
  {
   "cell_type": "code",
   "execution_count": null,
   "id": "0c497269-479b-4172-b522-4253353a8408",
   "metadata": {
    "tags": []
   },
   "outputs": [],
   "source": [
    "HTML('<img src=\"./deforestation.gif\">')"
   ]
  },
  {
   "cell_type": "code",
   "execution_count": null,
   "id": "556e6eeb-de87-4cb9-a82c-5480615b6e5c",
   "metadata": {},
   "outputs": [],
   "source": []
  }
 ],
 "metadata": {
  "availableInstances": [
   {
    "_defaultOrder": 0,
    "_isFastLaunch": true,
    "category": "General purpose",
    "gpuNum": 0,
    "hideHardwareSpecs": false,
    "memoryGiB": 4,
    "name": "ml.t3.medium",
    "vcpuNum": 2
   },
   {
    "_defaultOrder": 1,
    "_isFastLaunch": false,
    "category": "General purpose",
    "gpuNum": 0,
    "hideHardwareSpecs": false,
    "memoryGiB": 8,
    "name": "ml.t3.large",
    "vcpuNum": 2
   },
   {
    "_defaultOrder": 2,
    "_isFastLaunch": false,
    "category": "General purpose",
    "gpuNum": 0,
    "hideHardwareSpecs": false,
    "memoryGiB": 16,
    "name": "ml.t3.xlarge",
    "vcpuNum": 4
   },
   {
    "_defaultOrder": 3,
    "_isFastLaunch": false,
    "category": "General purpose",
    "gpuNum": 0,
    "hideHardwareSpecs": false,
    "memoryGiB": 32,
    "name": "ml.t3.2xlarge",
    "vcpuNum": 8
   },
   {
    "_defaultOrder": 4,
    "_isFastLaunch": true,
    "category": "General purpose",
    "gpuNum": 0,
    "hideHardwareSpecs": false,
    "memoryGiB": 8,
    "name": "ml.m5.large",
    "vcpuNum": 2
   },
   {
    "_defaultOrder": 5,
    "_isFastLaunch": false,
    "category": "General purpose",
    "gpuNum": 0,
    "hideHardwareSpecs": false,
    "memoryGiB": 16,
    "name": "ml.m5.xlarge",
    "vcpuNum": 4
   },
   {
    "_defaultOrder": 6,
    "_isFastLaunch": false,
    "category": "General purpose",
    "gpuNum": 0,
    "hideHardwareSpecs": false,
    "memoryGiB": 32,
    "name": "ml.m5.2xlarge",
    "vcpuNum": 8
   },
   {
    "_defaultOrder": 7,
    "_isFastLaunch": false,
    "category": "General purpose",
    "gpuNum": 0,
    "hideHardwareSpecs": false,
    "memoryGiB": 64,
    "name": "ml.m5.4xlarge",
    "vcpuNum": 16
   },
   {
    "_defaultOrder": 8,
    "_isFastLaunch": false,
    "category": "General purpose",
    "gpuNum": 0,
    "hideHardwareSpecs": false,
    "memoryGiB": 128,
    "name": "ml.m5.8xlarge",
    "vcpuNum": 32
   },
   {
    "_defaultOrder": 9,
    "_isFastLaunch": false,
    "category": "General purpose",
    "gpuNum": 0,
    "hideHardwareSpecs": false,
    "memoryGiB": 192,
    "name": "ml.m5.12xlarge",
    "vcpuNum": 48
   },
   {
    "_defaultOrder": 10,
    "_isFastLaunch": false,
    "category": "General purpose",
    "gpuNum": 0,
    "hideHardwareSpecs": false,
    "memoryGiB": 256,
    "name": "ml.m5.16xlarge",
    "vcpuNum": 64
   },
   {
    "_defaultOrder": 11,
    "_isFastLaunch": false,
    "category": "General purpose",
    "gpuNum": 0,
    "hideHardwareSpecs": false,
    "memoryGiB": 384,
    "name": "ml.m5.24xlarge",
    "vcpuNum": 96
   },
   {
    "_defaultOrder": 12,
    "_isFastLaunch": false,
    "category": "General purpose",
    "gpuNum": 0,
    "hideHardwareSpecs": false,
    "memoryGiB": 8,
    "name": "ml.m5d.large",
    "vcpuNum": 2
   },
   {
    "_defaultOrder": 13,
    "_isFastLaunch": false,
    "category": "General purpose",
    "gpuNum": 0,
    "hideHardwareSpecs": false,
    "memoryGiB": 16,
    "name": "ml.m5d.xlarge",
    "vcpuNum": 4
   },
   {
    "_defaultOrder": 14,
    "_isFastLaunch": false,
    "category": "General purpose",
    "gpuNum": 0,
    "hideHardwareSpecs": false,
    "memoryGiB": 32,
    "name": "ml.m5d.2xlarge",
    "vcpuNum": 8
   },
   {
    "_defaultOrder": 15,
    "_isFastLaunch": false,
    "category": "General purpose",
    "gpuNum": 0,
    "hideHardwareSpecs": false,
    "memoryGiB": 64,
    "name": "ml.m5d.4xlarge",
    "vcpuNum": 16
   },
   {
    "_defaultOrder": 16,
    "_isFastLaunch": false,
    "category": "General purpose",
    "gpuNum": 0,
    "hideHardwareSpecs": false,
    "memoryGiB": 128,
    "name": "ml.m5d.8xlarge",
    "vcpuNum": 32
   },
   {
    "_defaultOrder": 17,
    "_isFastLaunch": false,
    "category": "General purpose",
    "gpuNum": 0,
    "hideHardwareSpecs": false,
    "memoryGiB": 192,
    "name": "ml.m5d.12xlarge",
    "vcpuNum": 48
   },
   {
    "_defaultOrder": 18,
    "_isFastLaunch": false,
    "category": "General purpose",
    "gpuNum": 0,
    "hideHardwareSpecs": false,
    "memoryGiB": 256,
    "name": "ml.m5d.16xlarge",
    "vcpuNum": 64
   },
   {
    "_defaultOrder": 19,
    "_isFastLaunch": false,
    "category": "General purpose",
    "gpuNum": 0,
    "hideHardwareSpecs": false,
    "memoryGiB": 384,
    "name": "ml.m5d.24xlarge",
    "vcpuNum": 96
   },
   {
    "_defaultOrder": 20,
    "_isFastLaunch": false,
    "category": "General purpose",
    "gpuNum": 0,
    "hideHardwareSpecs": true,
    "memoryGiB": 0,
    "name": "ml.geospatial.interactive",
    "supportedImageNames": [
     "sagemaker-geospatial-v1-0"
    ],
    "vcpuNum": 0
   },
   {
    "_defaultOrder": 21,
    "_isFastLaunch": true,
    "category": "Compute optimized",
    "gpuNum": 0,
    "hideHardwareSpecs": false,
    "memoryGiB": 4,
    "name": "ml.c5.large",
    "vcpuNum": 2
   },
   {
    "_defaultOrder": 22,
    "_isFastLaunch": false,
    "category": "Compute optimized",
    "gpuNum": 0,
    "hideHardwareSpecs": false,
    "memoryGiB": 8,
    "name": "ml.c5.xlarge",
    "vcpuNum": 4
   },
   {
    "_defaultOrder": 23,
    "_isFastLaunch": false,
    "category": "Compute optimized",
    "gpuNum": 0,
    "hideHardwareSpecs": false,
    "memoryGiB": 16,
    "name": "ml.c5.2xlarge",
    "vcpuNum": 8
   },
   {
    "_defaultOrder": 24,
    "_isFastLaunch": false,
    "category": "Compute optimized",
    "gpuNum": 0,
    "hideHardwareSpecs": false,
    "memoryGiB": 32,
    "name": "ml.c5.4xlarge",
    "vcpuNum": 16
   },
   {
    "_defaultOrder": 25,
    "_isFastLaunch": false,
    "category": "Compute optimized",
    "gpuNum": 0,
    "hideHardwareSpecs": false,
    "memoryGiB": 72,
    "name": "ml.c5.9xlarge",
    "vcpuNum": 36
   },
   {
    "_defaultOrder": 26,
    "_isFastLaunch": false,
    "category": "Compute optimized",
    "gpuNum": 0,
    "hideHardwareSpecs": false,
    "memoryGiB": 96,
    "name": "ml.c5.12xlarge",
    "vcpuNum": 48
   },
   {
    "_defaultOrder": 27,
    "_isFastLaunch": false,
    "category": "Compute optimized",
    "gpuNum": 0,
    "hideHardwareSpecs": false,
    "memoryGiB": 144,
    "name": "ml.c5.18xlarge",
    "vcpuNum": 72
   },
   {
    "_defaultOrder": 28,
    "_isFastLaunch": false,
    "category": "Compute optimized",
    "gpuNum": 0,
    "hideHardwareSpecs": false,
    "memoryGiB": 192,
    "name": "ml.c5.24xlarge",
    "vcpuNum": 96
   },
   {
    "_defaultOrder": 29,
    "_isFastLaunch": true,
    "category": "Accelerated computing",
    "gpuNum": 1,
    "hideHardwareSpecs": false,
    "memoryGiB": 16,
    "name": "ml.g4dn.xlarge",
    "vcpuNum": 4
   },
   {
    "_defaultOrder": 30,
    "_isFastLaunch": false,
    "category": "Accelerated computing",
    "gpuNum": 1,
    "hideHardwareSpecs": false,
    "memoryGiB": 32,
    "name": "ml.g4dn.2xlarge",
    "vcpuNum": 8
   },
   {
    "_defaultOrder": 31,
    "_isFastLaunch": false,
    "category": "Accelerated computing",
    "gpuNum": 1,
    "hideHardwareSpecs": false,
    "memoryGiB": 64,
    "name": "ml.g4dn.4xlarge",
    "vcpuNum": 16
   },
   {
    "_defaultOrder": 32,
    "_isFastLaunch": false,
    "category": "Accelerated computing",
    "gpuNum": 1,
    "hideHardwareSpecs": false,
    "memoryGiB": 128,
    "name": "ml.g4dn.8xlarge",
    "vcpuNum": 32
   },
   {
    "_defaultOrder": 33,
    "_isFastLaunch": false,
    "category": "Accelerated computing",
    "gpuNum": 4,
    "hideHardwareSpecs": false,
    "memoryGiB": 192,
    "name": "ml.g4dn.12xlarge",
    "vcpuNum": 48
   },
   {
    "_defaultOrder": 34,
    "_isFastLaunch": false,
    "category": "Accelerated computing",
    "gpuNum": 1,
    "hideHardwareSpecs": false,
    "memoryGiB": 256,
    "name": "ml.g4dn.16xlarge",
    "vcpuNum": 64
   },
   {
    "_defaultOrder": 35,
    "_isFastLaunch": false,
    "category": "Accelerated computing",
    "gpuNum": 1,
    "hideHardwareSpecs": false,
    "memoryGiB": 61,
    "name": "ml.p3.2xlarge",
    "vcpuNum": 8
   },
   {
    "_defaultOrder": 36,
    "_isFastLaunch": false,
    "category": "Accelerated computing",
    "gpuNum": 4,
    "hideHardwareSpecs": false,
    "memoryGiB": 244,
    "name": "ml.p3.8xlarge",
    "vcpuNum": 32
   },
   {
    "_defaultOrder": 37,
    "_isFastLaunch": false,
    "category": "Accelerated computing",
    "gpuNum": 8,
    "hideHardwareSpecs": false,
    "memoryGiB": 488,
    "name": "ml.p3.16xlarge",
    "vcpuNum": 64
   },
   {
    "_defaultOrder": 38,
    "_isFastLaunch": false,
    "category": "Accelerated computing",
    "gpuNum": 8,
    "hideHardwareSpecs": false,
    "memoryGiB": 768,
    "name": "ml.p3dn.24xlarge",
    "vcpuNum": 96
   },
   {
    "_defaultOrder": 39,
    "_isFastLaunch": false,
    "category": "Memory Optimized",
    "gpuNum": 0,
    "hideHardwareSpecs": false,
    "memoryGiB": 16,
    "name": "ml.r5.large",
    "vcpuNum": 2
   },
   {
    "_defaultOrder": 40,
    "_isFastLaunch": false,
    "category": "Memory Optimized",
    "gpuNum": 0,
    "hideHardwareSpecs": false,
    "memoryGiB": 32,
    "name": "ml.r5.xlarge",
    "vcpuNum": 4
   },
   {
    "_defaultOrder": 41,
    "_isFastLaunch": false,
    "category": "Memory Optimized",
    "gpuNum": 0,
    "hideHardwareSpecs": false,
    "memoryGiB": 64,
    "name": "ml.r5.2xlarge",
    "vcpuNum": 8
   },
   {
    "_defaultOrder": 42,
    "_isFastLaunch": false,
    "category": "Memory Optimized",
    "gpuNum": 0,
    "hideHardwareSpecs": false,
    "memoryGiB": 128,
    "name": "ml.r5.4xlarge",
    "vcpuNum": 16
   },
   {
    "_defaultOrder": 43,
    "_isFastLaunch": false,
    "category": "Memory Optimized",
    "gpuNum": 0,
    "hideHardwareSpecs": false,
    "memoryGiB": 256,
    "name": "ml.r5.8xlarge",
    "vcpuNum": 32
   },
   {
    "_defaultOrder": 44,
    "_isFastLaunch": false,
    "category": "Memory Optimized",
    "gpuNum": 0,
    "hideHardwareSpecs": false,
    "memoryGiB": 384,
    "name": "ml.r5.12xlarge",
    "vcpuNum": 48
   },
   {
    "_defaultOrder": 45,
    "_isFastLaunch": false,
    "category": "Memory Optimized",
    "gpuNum": 0,
    "hideHardwareSpecs": false,
    "memoryGiB": 512,
    "name": "ml.r5.16xlarge",
    "vcpuNum": 64
   },
   {
    "_defaultOrder": 46,
    "_isFastLaunch": false,
    "category": "Memory Optimized",
    "gpuNum": 0,
    "hideHardwareSpecs": false,
    "memoryGiB": 768,
    "name": "ml.r5.24xlarge",
    "vcpuNum": 96
   },
   {
    "_defaultOrder": 47,
    "_isFastLaunch": false,
    "category": "Accelerated computing",
    "gpuNum": 1,
    "hideHardwareSpecs": false,
    "memoryGiB": 16,
    "name": "ml.g5.xlarge",
    "vcpuNum": 4
   },
   {
    "_defaultOrder": 48,
    "_isFastLaunch": false,
    "category": "Accelerated computing",
    "gpuNum": 1,
    "hideHardwareSpecs": false,
    "memoryGiB": 32,
    "name": "ml.g5.2xlarge",
    "vcpuNum": 8
   },
   {
    "_defaultOrder": 49,
    "_isFastLaunch": false,
    "category": "Accelerated computing",
    "gpuNum": 1,
    "hideHardwareSpecs": false,
    "memoryGiB": 64,
    "name": "ml.g5.4xlarge",
    "vcpuNum": 16
   },
   {
    "_defaultOrder": 50,
    "_isFastLaunch": false,
    "category": "Accelerated computing",
    "gpuNum": 1,
    "hideHardwareSpecs": false,
    "memoryGiB": 128,
    "name": "ml.g5.8xlarge",
    "vcpuNum": 32
   },
   {
    "_defaultOrder": 51,
    "_isFastLaunch": false,
    "category": "Accelerated computing",
    "gpuNum": 1,
    "hideHardwareSpecs": false,
    "memoryGiB": 256,
    "name": "ml.g5.16xlarge",
    "vcpuNum": 64
   },
   {
    "_defaultOrder": 52,
    "_isFastLaunch": false,
    "category": "Accelerated computing",
    "gpuNum": 4,
    "hideHardwareSpecs": false,
    "memoryGiB": 192,
    "name": "ml.g5.12xlarge",
    "vcpuNum": 48
   },
   {
    "_defaultOrder": 53,
    "_isFastLaunch": false,
    "category": "Accelerated computing",
    "gpuNum": 4,
    "hideHardwareSpecs": false,
    "memoryGiB": 384,
    "name": "ml.g5.24xlarge",
    "vcpuNum": 96
   },
   {
    "_defaultOrder": 54,
    "_isFastLaunch": false,
    "category": "Accelerated computing",
    "gpuNum": 8,
    "hideHardwareSpecs": false,
    "memoryGiB": 768,
    "name": "ml.g5.48xlarge",
    "vcpuNum": 192
   },
   {
    "_defaultOrder": 55,
    "_isFastLaunch": false,
    "category": "Accelerated computing",
    "gpuNum": 8,
    "hideHardwareSpecs": false,
    "memoryGiB": 1152,
    "name": "ml.p4d.24xlarge",
    "vcpuNum": 96
   },
   {
    "_defaultOrder": 56,
    "_isFastLaunch": false,
    "category": "Accelerated computing",
    "gpuNum": 8,
    "hideHardwareSpecs": false,
    "memoryGiB": 1152,
    "name": "ml.p4de.24xlarge",
    "vcpuNum": 96
   }
  ],
  "instance_type": "ml.geospatial.interactive",
  "kernelspec": {
   "display_name": "Python 3 (Geospatial 1.0)",
   "language": "python",
   "name": "python3__SAGEMAKER_INTERNAL__arn:aws:sagemaker:us-west-2:081189585635:image/sagemaker-geospatial-v1-0"
  },
  "language_info": {
   "codemirror_mode": {
    "name": "ipython",
    "version": 3
   },
   "file_extension": ".py",
   "mimetype": "text/x-python",
   "name": "python",
   "nbconvert_exporter": "python",
   "pygments_lexer": "ipython3",
   "version": "3.10.4"
  },
  "toc-autonumbering": true,
  "toc-showtags": false
 },
 "nbformat": 4,
 "nbformat_minor": 5
}
